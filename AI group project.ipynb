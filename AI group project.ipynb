{
 "cells": [
  {
   "cell_type": "code",
   "execution_count": 44,
   "metadata": {},
   "outputs": [],
   "source": [
    "import numpy as np\n",
    "import pandas as pd  \n",
    "import tensorflow as tf  \n",
    "import sklearn\n",
    "from sklearn.preprocessing import MinMaxScaler, StandardScaler\n",
    "import matplotlib.pyplot as plt  \n",
    "from sklearn.metrics import accuracy_score\n",
    "from sklearn.metrics import roc_auc_score\n",
    "from sklearn.model_selection import train_test_split\n",
    "from sklearn.neighbors import KNeighborsClassifier\n",
    "from keras.models import Sequential\n",
    "from keras.layers import Dense\n",
    "from sklearn.model_selection import cross_val_score\n",
    "from scikeras.wrappers import KerasClassifier\n",
    "from sklearn.model_selection import KFold"
   ]
  },
  {
   "cell_type": "code",
   "execution_count": 45,
   "metadata": {},
   "outputs": [
    {
     "data": {
      "text/plain": [
       "Index(['Mean Velocity No Task (cm/sec) ', 'Mean Velocity Alphabet (cm/sec) ',\n",
       "       'Mean Cadence Serial Subtraction   ',\n",
       "       'Mean Velocity Serial Subtraction (cm/sec) ',\n",
       "       'Mean Cadence Texting (steps/min) ', 'Mean Velocity Texting (cm/sec) ',\n",
       "       'Alphabet % Change in Velocity ',\n",
       "       'Serial subtraction % Change in Velocity ',\n",
       "       'Texting % Change in Velocity ', 'Festination index',\n",
       "       'Alphabet % Change in Cadence ', 'Texting % Change in Cadence',\n",
       "       'Serial Subtraction % Change in Cadence', 'Mean Cadence No Task',\n",
       "       'Mean eGVI No Task', 'Mean Cadence Alphabet ', 'Mean eGVI Alphabet ',\n",
       "       'Mean eGVI Serial Subtraction', 'Mean eGVI Texting ',\n",
       "       'Mean Step Length No Task  (cm)', 'Mean Step Length Alphabet (cm)',\n",
       "       'Mean Step Length Serial Subtraction', 'Mean Step Length Texting',\n",
       "       'Mean Stride Width No Task ', 'Mean Stride Width Alphabet ',\n",
       "       'Mean Stride Width Serial Subtraction ', 'Mean Stride Width Texting ',\n",
       "       'Mean Stance No Task (%) ', 'Mean Stance Alphabet ',\n",
       "       'Mean Stance Serial Subtraction ', 'Mean Stance Texting ',\n",
       "       'Mean Swing No Task ', 'Mean Swing Alphabet ',\n",
       "       'Mean Swing Serial Subtraction ', 'Mean Swing Texting ',\n",
       "       'Mean Single Support Normal', 'Mean Single Support Alphabet ',\n",
       "       'Mean Single Support Serial Subtraction ',\n",
       "       'Mean Single Support Texting ', 'Mean Total Double Support No Task',\n",
       "       'Mean Total Double Support Serial Subtraction ',\n",
       "       'Mean Total Double Support Alphabet ',\n",
       "       'Mean Total Double Support Texting ', 'Summary Duration (sec.)',\n",
       "       'FSST Forward', 'FSST Backward', 'FSST Right', 'FSST Left',\n",
       "       'ML Mean Both Feet  COP', 'ML Mean Left Foot COP',\n",
       "       'ML Mean Right Foot ', 'AP Mean Both Feet COP', 'AP Mean Left Foot ',\n",
       "       'AP Mean Right Foot ', 'Path Length Both Feet ',\n",
       "       'Path Length Left Foot ', 'Path Length Right ',\n",
       "       'SD of ML Velocity Both Feet ', 'SD of ML Velocity Left Foot ',\n",
       "       'SD of ML Velocity Right Foot     ', 'SD of AP Velocity Both Feet',\n",
       "       'SD of AP Velocity Left Foot ', 'SD of AP Velocity Right Foot ',\n",
       "       'Ellipse Area Both Feet', 'Ellipse Area Left Foot COP ',\n",
       "       'Ellipse Area Right Foot ', 'Ellipse Angle Both Feet ',\n",
       "       'Ellipse Angle Right Foot ', 'Ellipse Angle Left Foot  ',\n",
       "       'Left Foot Duration (sec.) ', 'Right Foot Duration (sec.)',\n",
       "       'Changes in Main Support Legacy Duration ',\n",
       "       'Asymmetry L/R of Both Feet COP ', 'ML Mobility (%)', 'ML Mean (cm)',\n",
       "       'ML Range (cm)', 'ML Min. (cm)', 'ML Max. (cm)', 'Asymmetry A/P',\n",
       "       'AP Mobility (%)', 'AP Mean (cm)', 'AP Range (cm)', 'AP Min. (cm)',\n",
       "       'AP Max. (cm)', 'Ellipse Center ML Axis (cm)',\n",
       "       'Ellipse Center AP Axis (cm)', 'Ellipse Area (cm x cm)',\n",
       "       'Ellipse Minor Axis (cm.)', 'Ellipse Major Axis (cm.)',\n",
       "       'Ellipse Angle (degrees)', 'Any change in diagnosis due to consensus?',\n",
       "       'Global Diagnosis', 'Diagnosis', 'Diagnosis (Sub-Category)',\n",
       "       'If MCI, please select', 'Participant Gender', 'Current Age',\n",
       "       'Participant's Race'],\n",
       "      dtype='object')"
      ]
     },
     "execution_count": 45,
     "metadata": {},
     "output_type": "execute_result"
    }
   ],
   "source": [
    "data = pd.read_csv('/Users/noah/Desktop/Meharry Fall 2023 files/Group project Datasest.csv')\n",
    "\n",
    "data.columns"
   ]
  },
  {
   "cell_type": "code",
   "execution_count": 46,
   "metadata": {},
   "outputs": [
    {
     "data": {
      "text/plain": [
       "1.0    97\n",
       "2.0    48\n",
       "3.0     1\n",
       "Name: Global Diagnosis, dtype: int64"
      ]
     },
     "execution_count": 46,
     "metadata": {},
     "output_type": "execute_result"
    }
   ],
   "source": [
    "data['Global Diagnosis'].value_counts()"
   ]
  },
  {
   "cell_type": "code",
   "execution_count": 47,
   "metadata": {},
   "outputs": [
    {
     "data": {
      "text/plain": [
       "(154, 98)"
      ]
     },
     "execution_count": 47,
     "metadata": {},
     "output_type": "execute_result"
    }
   ],
   "source": [
    "data.shape"
   ]
  },
  {
   "cell_type": "code",
   "execution_count": 48,
   "metadata": {},
   "outputs": [
    {
     "data": {
      "text/plain": [
       "11.0    63\n",
       "12.0    28\n",
       "21.0    25\n",
       "23.0    10\n",
       "26.0     4\n",
       "28.0     4\n",
       "27.0     3\n",
       "73.0     2\n",
       "2.1      1\n",
       "Name: Diagnosis (Sub-Category), dtype: int64"
      ]
     },
     "execution_count": 48,
     "metadata": {},
     "output_type": "execute_result"
    }
   ],
   "source": [
    "data['Diagnosis (Sub-Category)'].value_counts()"
   ]
  },
  {
   "cell_type": "code",
   "execution_count": null,
   "metadata": {},
   "outputs": [],
   "source": []
  },
  {
   "cell_type": "code",
   "execution_count": 49,
   "metadata": {},
   "outputs": [],
   "source": [
    "# Outcome - Global Diagnosis\n",
    "\n",
    "# Features - Current Age, Participant Gender, Participant's Race, Alphabet % Change in Velocity, Path Both feet (?), \n",
    "# Mean Velocity No Task, Mean Step Length No Task (cm), Mean Step Length Alphabet (cm)\n",
    "# Asymmetry L/R of Both Feet COP, Changes in Main Support Legacy Duration\n",
    "\n",
    "# Other possible features- AP Mobility (%)\n",
    "\n",
    "\n",
    "\n",
    "# Participants: 154\n",
    "\n",
    "# Missing Data\n",
    "## 8 missing global diagnosis\n",
    "\n",
    "## 0 Current Age\n",
    "## 2 Particiant Gender (1,2)\n",
    "## 4 Participant's Race (1, 2, 6, 3)\n",
    "## 0 Alphabet % Change in Velocity \n",
    "## 16 'Path Length Both Feet '\n",
    "## 0 'Mean Velocity No Task (cm/sec) '\n",
    "## 6 'Mean Step Length No Task  (cm)'\n",
    "## 6 'Mean Step Length Alphabet (cm)'\n",
    "## 35 'Asymmetry L/R of Both Feet COP '\n",
    "\n",
    "# ?\n",
    "## 151 'Changes in Main Support Legacy Duration '\n",
    "\n"
   ]
  },
  {
   "cell_type": "code",
   "execution_count": 50,
   "metadata": {},
   "outputs": [
    {
     "data": {
      "text/plain": [
       "1.0    97\n",
       "2.0    48\n",
       "3.0     1\n",
       "Name: Global Diagnosis, dtype: int64"
      ]
     },
     "execution_count": 50,
     "metadata": {},
     "output_type": "execute_result"
    }
   ],
   "source": [
    "data[\"Global Diagnosis\"].value_counts()"
   ]
  },
  {
   "cell_type": "code",
   "execution_count": 51,
   "metadata": {},
   "outputs": [],
   "source": [
    "dataset = pd.DataFrame(\n",
    "                data[[('Global Diagnosis'), ('Current Age'), (\"Participant's Race\"), ('Alphabet % Change in Velocity '),\n",
    "                ('Path Length Both Feet '), ('Mean Velocity No Task (cm/sec) '), ('Mean Step Length No Task  (cm)'),\n",
    "                ('Mean Step Length Alphabet (cm)'), ('Asymmetry L/R of Both Feet COP ')]]\n",
    "                )"
   ]
  },
  {
   "cell_type": "code",
   "execution_count": 52,
   "metadata": {},
   "outputs": [],
   "source": [
    "scaler = MinMaxScaler()"
   ]
  },
  {
   "cell_type": "code",
   "execution_count": 53,
   "metadata": {},
   "outputs": [
    {
     "data": {
      "text/plain": [
       "0      1.0\n",
       "1      1.0\n",
       "2      1.0\n",
       "3      2.0\n",
       "4      2.0\n",
       "      ... \n",
       "149    1.0\n",
       "150    1.0\n",
       "151    1.0\n",
       "152    1.0\n",
       "153    1.0\n",
       "Name: Global Diagnosis, Length: 154, dtype: float64"
      ]
     },
     "execution_count": 53,
     "metadata": {},
     "output_type": "execute_result"
    }
   ],
   "source": [
    "dataset['Global Diagnosis'].replace(np.nan, 1)"
   ]
  },
  {
   "cell_type": "code",
   "execution_count": 54,
   "metadata": {},
   "outputs": [
    {
     "data": {
      "text/html": [
       "<div>\n",
       "<style scoped>\n",
       "    .dataframe tbody tr th:only-of-type {\n",
       "        vertical-align: middle;\n",
       "    }\n",
       "\n",
       "    .dataframe tbody tr th {\n",
       "        vertical-align: top;\n",
       "    }\n",
       "\n",
       "    .dataframe thead th {\n",
       "        text-align: right;\n",
       "    }\n",
       "</style>\n",
       "<table border=\"1\" class=\"dataframe\">\n",
       "  <thead>\n",
       "    <tr style=\"text-align: right;\">\n",
       "      <th></th>\n",
       "      <th>Global Diagnosis</th>\n",
       "      <th>Current Age</th>\n",
       "      <th>Participant's Race</th>\n",
       "      <th>Alphabet % Change in Velocity</th>\n",
       "      <th>Path Length Both Feet</th>\n",
       "      <th>Mean Velocity No Task (cm/sec)</th>\n",
       "      <th>Mean Step Length No Task  (cm)</th>\n",
       "      <th>Mean Step Length Alphabet (cm)</th>\n",
       "      <th>Asymmetry L/R of Both Feet COP</th>\n",
       "    </tr>\n",
       "  </thead>\n",
       "  <tbody>\n",
       "    <tr>\n",
       "      <th>0</th>\n",
       "      <td>1.0</td>\n",
       "      <td>72</td>\n",
       "      <td>1.0</td>\n",
       "      <td>2.114211</td>\n",
       "      <td>21.524</td>\n",
       "      <td>124.822</td>\n",
       "      <td>67.900</td>\n",
       "      <td>67.564</td>\n",
       "      <td>1.109</td>\n",
       "    </tr>\n",
       "    <tr>\n",
       "      <th>1</th>\n",
       "      <td>1.0</td>\n",
       "      <td>69</td>\n",
       "      <td>1.0</td>\n",
       "      <td>10.444638</td>\n",
       "      <td>13.833</td>\n",
       "      <td>143.825</td>\n",
       "      <td>72.121</td>\n",
       "      <td>69.250</td>\n",
       "      <td>0.940</td>\n",
       "    </tr>\n",
       "    <tr>\n",
       "      <th>2</th>\n",
       "      <td>1.0</td>\n",
       "      <td>47</td>\n",
       "      <td>1.0</td>\n",
       "      <td>15.150117</td>\n",
       "      <td>21.918</td>\n",
       "      <td>151.682</td>\n",
       "      <td>76.072</td>\n",
       "      <td>70.342</td>\n",
       "      <td>0.000</td>\n",
       "    </tr>\n",
       "    <tr>\n",
       "      <th>3</th>\n",
       "      <td>2.0</td>\n",
       "      <td>45</td>\n",
       "      <td>2.0</td>\n",
       "      <td>-11.857967</td>\n",
       "      <td>86.474</td>\n",
       "      <td>95.809</td>\n",
       "      <td>60.535</td>\n",
       "      <td>64.541</td>\n",
       "      <td>0.332</td>\n",
       "    </tr>\n",
       "    <tr>\n",
       "      <th>4</th>\n",
       "      <td>2.0</td>\n",
       "      <td>83</td>\n",
       "      <td>1.0</td>\n",
       "      <td>5.086625</td>\n",
       "      <td>25.399</td>\n",
       "      <td>124.444</td>\n",
       "      <td>64.254</td>\n",
       "      <td>63.693</td>\n",
       "      <td>0.915</td>\n",
       "    </tr>\n",
       "    <tr>\n",
       "      <th>...</th>\n",
       "      <td>...</td>\n",
       "      <td>...</td>\n",
       "      <td>...</td>\n",
       "      <td>...</td>\n",
       "      <td>...</td>\n",
       "      <td>...</td>\n",
       "      <td>...</td>\n",
       "      <td>...</td>\n",
       "      <td>...</td>\n",
       "    </tr>\n",
       "    <tr>\n",
       "      <th>149</th>\n",
       "      <td>1.0</td>\n",
       "      <td>58</td>\n",
       "      <td>1.0</td>\n",
       "      <td>1.338354</td>\n",
       "      <td>25.254</td>\n",
       "      <td>126.947</td>\n",
       "      <td>65.711</td>\n",
       "      <td>64.981</td>\n",
       "      <td>0.839</td>\n",
       "    </tr>\n",
       "    <tr>\n",
       "      <th>150</th>\n",
       "      <td>1.0</td>\n",
       "      <td>69</td>\n",
       "      <td>1.0</td>\n",
       "      <td>11.624286</td>\n",
       "      <td>23.954</td>\n",
       "      <td>120.730</td>\n",
       "      <td>65.961</td>\n",
       "      <td>64.076</td>\n",
       "      <td>0.000</td>\n",
       "    </tr>\n",
       "    <tr>\n",
       "      <th>151</th>\n",
       "      <td>1.0</td>\n",
       "      <td>73</td>\n",
       "      <td>1.0</td>\n",
       "      <td>-0.445605</td>\n",
       "      <td>26.225</td>\n",
       "      <td>131.731</td>\n",
       "      <td>70.842</td>\n",
       "      <td>68.827</td>\n",
       "      <td>0.896</td>\n",
       "    </tr>\n",
       "    <tr>\n",
       "      <th>152</th>\n",
       "      <td>1.0</td>\n",
       "      <td>61</td>\n",
       "      <td>1.0</td>\n",
       "      <td>2.545548</td>\n",
       "      <td>29.914</td>\n",
       "      <td>148.416</td>\n",
       "      <td>76.529</td>\n",
       "      <td>76.773</td>\n",
       "      <td>0.966</td>\n",
       "    </tr>\n",
       "    <tr>\n",
       "      <th>153</th>\n",
       "      <td>1.0</td>\n",
       "      <td>59</td>\n",
       "      <td>1.0</td>\n",
       "      <td>1.165013</td>\n",
       "      <td>27.167</td>\n",
       "      <td>156.479</td>\n",
       "      <td>78.775</td>\n",
       "      <td>77.087</td>\n",
       "      <td>0.924</td>\n",
       "    </tr>\n",
       "  </tbody>\n",
       "</table>\n",
       "<p>154 rows × 9 columns</p>\n",
       "</div>"
      ],
      "text/plain": [
       "     Global Diagnosis  Current Age  Participant's Race  \\\n",
       "0                 1.0           72                 1.0   \n",
       "1                 1.0           69                 1.0   \n",
       "2                 1.0           47                 1.0   \n",
       "3                 2.0           45                 2.0   \n",
       "4                 2.0           83                 1.0   \n",
       "..                ...          ...                 ...   \n",
       "149               1.0           58                 1.0   \n",
       "150               1.0           69                 1.0   \n",
       "151               1.0           73                 1.0   \n",
       "152               1.0           61                 1.0   \n",
       "153               1.0           59                 1.0   \n",
       "\n",
       "     Alphabet % Change in Velocity   Path Length Both Feet   \\\n",
       "0                          2.114211                  21.524   \n",
       "1                         10.444638                  13.833   \n",
       "2                         15.150117                  21.918   \n",
       "3                        -11.857967                  86.474   \n",
       "4                          5.086625                  25.399   \n",
       "..                              ...                     ...   \n",
       "149                        1.338354                  25.254   \n",
       "150                       11.624286                  23.954   \n",
       "151                       -0.445605                  26.225   \n",
       "152                        2.545548                  29.914   \n",
       "153                        1.165013                  27.167   \n",
       "\n",
       "     Mean Velocity No Task (cm/sec)   Mean Step Length No Task  (cm)  \\\n",
       "0                            124.822                          67.900   \n",
       "1                            143.825                          72.121   \n",
       "2                            151.682                          76.072   \n",
       "3                             95.809                          60.535   \n",
       "4                            124.444                          64.254   \n",
       "..                               ...                             ...   \n",
       "149                          126.947                          65.711   \n",
       "150                          120.730                          65.961   \n",
       "151                          131.731                          70.842   \n",
       "152                          148.416                          76.529   \n",
       "153                          156.479                          78.775   \n",
       "\n",
       "     Mean Step Length Alphabet (cm)  Asymmetry L/R of Both Feet COP   \n",
       "0                            67.564                            1.109  \n",
       "1                            69.250                            0.940  \n",
       "2                            70.342                            0.000  \n",
       "3                            64.541                            0.332  \n",
       "4                            63.693                            0.915  \n",
       "..                              ...                              ...  \n",
       "149                          64.981                            0.839  \n",
       "150                          64.076                            0.000  \n",
       "151                          68.827                            0.896  \n",
       "152                          76.773                            0.966  \n",
       "153                          77.087                            0.924  \n",
       "\n",
       "[154 rows x 9 columns]"
      ]
     },
     "execution_count": 54,
     "metadata": {},
     "output_type": "execute_result"
    }
   ],
   "source": [
    "dataset.fillna(0)"
   ]
  },
  {
   "cell_type": "code",
   "execution_count": 58,
   "metadata": {},
   "outputs": [
    {
     "data": {
      "text/plain": [
       "1.0    97\n",
       "2.0    48\n",
       "3.0     1\n",
       "Name: Global Diagnosis, dtype: int64"
      ]
     },
     "execution_count": 58,
     "metadata": {},
     "output_type": "execute_result"
    }
   ],
   "source": [
    "dataset['Global Diagnosis'].value_counts()"
   ]
  },
  {
   "cell_type": "code",
   "execution_count": 61,
   "metadata": {},
   "outputs": [],
   "source": [
    "data_all = np.array(dataset['Global Diagnosis']).reshape(-1,1)"
   ]
  },
  {
   "cell_type": "code",
   "execution_count": 66,
   "metadata": {},
   "outputs": [],
   "source": [
    "data_all = pd.DataFrame(scaler.fit_transform(data_all))"
   ]
  },
  {
   "cell_type": "code",
   "execution_count": 67,
   "metadata": {},
   "outputs": [
    {
     "ename": "MergeError",
     "evalue": "No common columns to perform merge on. Merge options: left_on=None, right_on=None, left_index=False, right_index=False",
     "output_type": "error",
     "traceback": [
      "\u001b[0;31m---------------------------------------------------------------------------\u001b[0m",
      "\u001b[0;31mMergeError\u001b[0m                                Traceback (most recent call last)",
      "\u001b[1;32m/Users/noah/Desktop/Meharry Fall 2023 files/AI group project.ipynb Cell 16\u001b[0m line \u001b[0;36m1\n\u001b[0;32m----> <a href='vscode-notebook-cell:/Users/noah/Desktop/Meharry%20Fall%202023%20files/AI%20group%20project.ipynb#X16sZmlsZQ%3D%3D?line=0'>1</a>\u001b[0m data_all1 \u001b[39m=\u001b[39m dataset\u001b[39m.\u001b[39;49mmerge(data_all, how\u001b[39m=\u001b[39;49m\u001b[39m'\u001b[39;49m\u001b[39mleft\u001b[39;49m\u001b[39m'\u001b[39;49m)\n",
      "File \u001b[0;32m/Library/Frameworks/Python.framework/Versions/3.11/lib/python3.11/site-packages/pandas/core/frame.py:10093\u001b[0m, in \u001b[0;36mDataFrame.merge\u001b[0;34m(self, right, how, on, left_on, right_on, left_index, right_index, sort, suffixes, copy, indicator, validate)\u001b[0m\n\u001b[1;32m  10074\u001b[0m \u001b[39m@Substitution\u001b[39m(\u001b[39m\"\u001b[39m\u001b[39m\"\u001b[39m)\n\u001b[1;32m  10075\u001b[0m \u001b[39m@Appender\u001b[39m(_merge_doc, indents\u001b[39m=\u001b[39m\u001b[39m2\u001b[39m)\n\u001b[1;32m  10076\u001b[0m \u001b[39mdef\u001b[39;00m \u001b[39mmerge\u001b[39m(\n\u001b[0;32m   (...)\u001b[0m\n\u001b[1;32m  10089\u001b[0m     validate: \u001b[39mstr\u001b[39m \u001b[39m|\u001b[39m \u001b[39mNone\u001b[39;00m \u001b[39m=\u001b[39m \u001b[39mNone\u001b[39;00m,\n\u001b[1;32m  10090\u001b[0m ) \u001b[39m-\u001b[39m\u001b[39m>\u001b[39m DataFrame:\n\u001b[1;32m  10091\u001b[0m     \u001b[39mfrom\u001b[39;00m \u001b[39mpandas\u001b[39;00m\u001b[39m.\u001b[39;00m\u001b[39mcore\u001b[39;00m\u001b[39m.\u001b[39;00m\u001b[39mreshape\u001b[39;00m\u001b[39m.\u001b[39;00m\u001b[39mmerge\u001b[39;00m \u001b[39mimport\u001b[39;00m merge\n\u001b[0;32m> 10093\u001b[0m     \u001b[39mreturn\u001b[39;00m merge(\n\u001b[1;32m  10094\u001b[0m         \u001b[39mself\u001b[39;49m,\n\u001b[1;32m  10095\u001b[0m         right,\n\u001b[1;32m  10096\u001b[0m         how\u001b[39m=\u001b[39;49mhow,\n\u001b[1;32m  10097\u001b[0m         on\u001b[39m=\u001b[39;49mon,\n\u001b[1;32m  10098\u001b[0m         left_on\u001b[39m=\u001b[39;49mleft_on,\n\u001b[1;32m  10099\u001b[0m         right_on\u001b[39m=\u001b[39;49mright_on,\n\u001b[1;32m  10100\u001b[0m         left_index\u001b[39m=\u001b[39;49mleft_index,\n\u001b[1;32m  10101\u001b[0m         right_index\u001b[39m=\u001b[39;49mright_index,\n\u001b[1;32m  10102\u001b[0m         sort\u001b[39m=\u001b[39;49msort,\n\u001b[1;32m  10103\u001b[0m         suffixes\u001b[39m=\u001b[39;49msuffixes,\n\u001b[1;32m  10104\u001b[0m         copy\u001b[39m=\u001b[39;49mcopy,\n\u001b[1;32m  10105\u001b[0m         indicator\u001b[39m=\u001b[39;49mindicator,\n\u001b[1;32m  10106\u001b[0m         validate\u001b[39m=\u001b[39;49mvalidate,\n\u001b[1;32m  10107\u001b[0m     )\n",
      "File \u001b[0;32m/Library/Frameworks/Python.framework/Versions/3.11/lib/python3.11/site-packages/pandas/core/reshape/merge.py:110\u001b[0m, in \u001b[0;36mmerge\u001b[0;34m(left, right, how, on, left_on, right_on, left_index, right_index, sort, suffixes, copy, indicator, validate)\u001b[0m\n\u001b[1;32m     93\u001b[0m \u001b[39m@Substitution\u001b[39m(\u001b[39m\"\u001b[39m\u001b[39m\\n\u001b[39;00m\u001b[39mleft : DataFrame or named Series\u001b[39m\u001b[39m\"\u001b[39m)\n\u001b[1;32m     94\u001b[0m \u001b[39m@Appender\u001b[39m(_merge_doc, indents\u001b[39m=\u001b[39m\u001b[39m0\u001b[39m)\n\u001b[1;32m     95\u001b[0m \u001b[39mdef\u001b[39;00m \u001b[39mmerge\u001b[39m(\n\u001b[0;32m   (...)\u001b[0m\n\u001b[1;32m    108\u001b[0m     validate: \u001b[39mstr\u001b[39m \u001b[39m|\u001b[39m \u001b[39mNone\u001b[39;00m \u001b[39m=\u001b[39m \u001b[39mNone\u001b[39;00m,\n\u001b[1;32m    109\u001b[0m ) \u001b[39m-\u001b[39m\u001b[39m>\u001b[39m DataFrame:\n\u001b[0;32m--> 110\u001b[0m     op \u001b[39m=\u001b[39m _MergeOperation(\n\u001b[1;32m    111\u001b[0m         left,\n\u001b[1;32m    112\u001b[0m         right,\n\u001b[1;32m    113\u001b[0m         how\u001b[39m=\u001b[39;49mhow,\n\u001b[1;32m    114\u001b[0m         on\u001b[39m=\u001b[39;49mon,\n\u001b[1;32m    115\u001b[0m         left_on\u001b[39m=\u001b[39;49mleft_on,\n\u001b[1;32m    116\u001b[0m         right_on\u001b[39m=\u001b[39;49mright_on,\n\u001b[1;32m    117\u001b[0m         left_index\u001b[39m=\u001b[39;49mleft_index,\n\u001b[1;32m    118\u001b[0m         right_index\u001b[39m=\u001b[39;49mright_index,\n\u001b[1;32m    119\u001b[0m         sort\u001b[39m=\u001b[39;49msort,\n\u001b[1;32m    120\u001b[0m         suffixes\u001b[39m=\u001b[39;49msuffixes,\n\u001b[1;32m    121\u001b[0m         indicator\u001b[39m=\u001b[39;49mindicator,\n\u001b[1;32m    122\u001b[0m         validate\u001b[39m=\u001b[39;49mvalidate,\n\u001b[1;32m    123\u001b[0m     )\n\u001b[1;32m    124\u001b[0m     \u001b[39mreturn\u001b[39;00m op\u001b[39m.\u001b[39mget_result(copy\u001b[39m=\u001b[39mcopy)\n",
      "File \u001b[0;32m/Library/Frameworks/Python.framework/Versions/3.11/lib/python3.11/site-packages/pandas/core/reshape/merge.py:685\u001b[0m, in \u001b[0;36m_MergeOperation.__init__\u001b[0;34m(self, left, right, how, on, left_on, right_on, axis, left_index, right_index, sort, suffixes, indicator, validate)\u001b[0m\n\u001b[1;32m    681\u001b[0m     \u001b[39m# stacklevel chosen to be correct when this is reached via pd.merge\u001b[39;00m\n\u001b[1;32m    682\u001b[0m     \u001b[39m# (and not DataFrame.join)\u001b[39;00m\n\u001b[1;32m    683\u001b[0m     warnings\u001b[39m.\u001b[39mwarn(msg, \u001b[39mFutureWarning\u001b[39;00m, stacklevel\u001b[39m=\u001b[39mfind_stack_level())\n\u001b[0;32m--> 685\u001b[0m \u001b[39mself\u001b[39m\u001b[39m.\u001b[39mleft_on, \u001b[39mself\u001b[39m\u001b[39m.\u001b[39mright_on \u001b[39m=\u001b[39m \u001b[39mself\u001b[39;49m\u001b[39m.\u001b[39;49m_validate_left_right_on(left_on, right_on)\n\u001b[1;32m    687\u001b[0m cross_col \u001b[39m=\u001b[39m \u001b[39mNone\u001b[39;00m\n\u001b[1;32m    688\u001b[0m \u001b[39mif\u001b[39;00m \u001b[39mself\u001b[39m\u001b[39m.\u001b[39mhow \u001b[39m==\u001b[39m \u001b[39m\"\u001b[39m\u001b[39mcross\u001b[39m\u001b[39m\"\u001b[39m:\n",
      "File \u001b[0;32m/Library/Frameworks/Python.framework/Versions/3.11/lib/python3.11/site-packages/pandas/core/reshape/merge.py:1434\u001b[0m, in \u001b[0;36m_MergeOperation._validate_left_right_on\u001b[0;34m(self, left_on, right_on)\u001b[0m\n\u001b[1;32m   1432\u001b[0m common_cols \u001b[39m=\u001b[39m left_cols\u001b[39m.\u001b[39mintersection(right_cols)\n\u001b[1;32m   1433\u001b[0m \u001b[39mif\u001b[39;00m \u001b[39mlen\u001b[39m(common_cols) \u001b[39m==\u001b[39m \u001b[39m0\u001b[39m:\n\u001b[0;32m-> 1434\u001b[0m     \u001b[39mraise\u001b[39;00m MergeError(\n\u001b[1;32m   1435\u001b[0m         \u001b[39m\"\u001b[39m\u001b[39mNo common columns to perform merge on. \u001b[39m\u001b[39m\"\u001b[39m\n\u001b[1;32m   1436\u001b[0m         \u001b[39mf\u001b[39m\u001b[39m\"\u001b[39m\u001b[39mMerge options: left_on=\u001b[39m\u001b[39m{\u001b[39;00mleft_on\u001b[39m}\u001b[39;00m\u001b[39m, \u001b[39m\u001b[39m\"\u001b[39m\n\u001b[1;32m   1437\u001b[0m         \u001b[39mf\u001b[39m\u001b[39m\"\u001b[39m\u001b[39mright_on=\u001b[39m\u001b[39m{\u001b[39;00mright_on\u001b[39m}\u001b[39;00m\u001b[39m, \u001b[39m\u001b[39m\"\u001b[39m\n\u001b[1;32m   1438\u001b[0m         \u001b[39mf\u001b[39m\u001b[39m\"\u001b[39m\u001b[39mleft_index=\u001b[39m\u001b[39m{\u001b[39;00m\u001b[39mself\u001b[39m\u001b[39m.\u001b[39mleft_index\u001b[39m}\u001b[39;00m\u001b[39m, \u001b[39m\u001b[39m\"\u001b[39m\n\u001b[1;32m   1439\u001b[0m         \u001b[39mf\u001b[39m\u001b[39m\"\u001b[39m\u001b[39mright_index=\u001b[39m\u001b[39m{\u001b[39;00m\u001b[39mself\u001b[39m\u001b[39m.\u001b[39mright_index\u001b[39m}\u001b[39;00m\u001b[39m\"\u001b[39m\n\u001b[1;32m   1440\u001b[0m     )\n\u001b[1;32m   1441\u001b[0m \u001b[39mif\u001b[39;00m (\n\u001b[1;32m   1442\u001b[0m     \u001b[39mnot\u001b[39;00m left_cols\u001b[39m.\u001b[39mjoin(common_cols, how\u001b[39m=\u001b[39m\u001b[39m\"\u001b[39m\u001b[39minner\u001b[39m\u001b[39m\"\u001b[39m)\u001b[39m.\u001b[39mis_unique\n\u001b[1;32m   1443\u001b[0m     \u001b[39mor\u001b[39;00m \u001b[39mnot\u001b[39;00m right_cols\u001b[39m.\u001b[39mjoin(common_cols, how\u001b[39m=\u001b[39m\u001b[39m\"\u001b[39m\u001b[39minner\u001b[39m\u001b[39m\"\u001b[39m)\u001b[39m.\u001b[39mis_unique\n\u001b[1;32m   1444\u001b[0m ):\n\u001b[1;32m   1445\u001b[0m     \u001b[39mraise\u001b[39;00m MergeError(\u001b[39mf\u001b[39m\u001b[39m\"\u001b[39m\u001b[39mData columns not unique: \u001b[39m\u001b[39m{\u001b[39;00m\u001b[39mrepr\u001b[39m(common_cols)\u001b[39m}\u001b[39;00m\u001b[39m\"\u001b[39m)\n",
      "\u001b[0;31mMergeError\u001b[0m: No common columns to perform merge on. Merge options: left_on=None, right_on=None, left_index=False, right_index=False"
     ]
    }
   ],
   "source": [
    "data_all1 = dataset.merge(data_all, how='left')"
   ]
  },
  {
   "cell_type": "code",
   "execution_count": null,
   "metadata": {},
   "outputs": [],
   "source": [
    "#dataset = np.array(dataset)"
   ]
  },
  {
   "cell_type": "code",
   "execution_count": null,
   "metadata": {},
   "outputs": [],
   "source": [
    "#dataset.flatten()"
   ]
  },
  {
   "cell_type": "code",
   "execution_count": null,
   "metadata": {},
   "outputs": [
    {
     "name": "stdout",
     "output_type": "stream",
     "text": [
      "Model: \"sequential_1\"\n",
      "_________________________________________________________________\n",
      " Layer (type)                Output Shape              Param #   \n",
      "=================================================================\n",
      " dense_4 (Dense)             (None, 32)                288       \n",
      "                                                                 \n",
      " dense_5 (Dense)             (None, 8)                 264       \n",
      "                                                                 \n",
      " dense_6 (Dense)             (None, 4)                 36        \n",
      "                                                                 \n",
      " dense_7 (Dense)             (None, 1)                 5         \n",
      "                                                                 \n",
      "=================================================================\n",
      "Total params: 593 (2.32 KB)\n",
      "Trainable params: 593 (2.32 KB)\n",
      "Non-trainable params: 0 (0.00 Byte)\n",
      "_________________________________________________________________\n"
     ]
    }
   ],
   "source": [
    "model = Sequential()\n",
    "model.add(Dense(32, input_dim = (8), activation = \"relu\"))\n",
    "model.add(Dense(8, activation=\"relu\"))\n",
    "model.add(Dense(4, activation='relu'))\n",
    "model.add(Dense(1))\n",
    "\n",
    "model.compile(loss='mse', optimizer='Adam', metrics=['accuracy'])\n",
    "model.summary()"
   ]
  },
  {
   "cell_type": "code",
   "execution_count": null,
   "metadata": {},
   "outputs": [],
   "source": [
    "X = dataset.drop(columns='Global Diagnosis')\n",
    "y = dataset['Global Diagnosis']"
   ]
  },
  {
   "cell_type": "markdown",
   "metadata": {},
   "source": []
  },
  {
   "cell_type": "code",
   "execution_count": null,
   "metadata": {},
   "outputs": [],
   "source": [
    "dataset = np.array(dataset)"
   ]
  },
  {
   "cell_type": "code",
   "execution_count": null,
   "metadata": {},
   "outputs": [
    {
     "data": {
      "text/plain": [
       "array([ 1.   , 72.   ,  1.   , ..., 78.775, 77.087,  0.924])"
      ]
     },
     "execution_count": 15,
     "metadata": {},
     "output_type": "execute_result"
    }
   ],
   "source": [
    "dataset.flatten()"
   ]
  },
  {
   "cell_type": "code",
   "execution_count": null,
   "metadata": {},
   "outputs": [],
   "source": [
    "np.random.shuffle(dataset)"
   ]
  },
  {
   "cell_type": "code",
   "execution_count": null,
   "metadata": {},
   "outputs": [
    {
     "data": {
      "text/plain": [
       "123"
      ]
     },
     "execution_count": 17,
     "metadata": {},
     "output_type": "execute_result"
    }
   ],
   "source": [
    "split_index = int(dataset.shape[0] * 0.8)\n",
    "split_index"
   ]
  },
  {
   "cell_type": "code",
   "execution_count": null,
   "metadata": {},
   "outputs": [],
   "source": [
    "train_x = X[:split_index]\n",
    "test_x = X[split_index:]\n",
    "\n",
    "train_y = y[:split_index]\n",
    "test_y = y[split_index:]"
   ]
  },
  {
   "cell_type": "code",
   "execution_count": null,
   "metadata": {},
   "outputs": [
    {
     "name": "stdout",
     "output_type": "stream",
     "text": [
      "Epoch 1/30\n",
      "5/5 [==============================] - 1s 31ms/step - loss: nan - accuracy: 0.0000e+00 - val_loss: nan - val_accuracy: 0.0000e+00\n",
      "Epoch 2/30\n",
      "5/5 [==============================] - 0s 7ms/step - loss: nan - accuracy: 0.0000e+00 - val_loss: nan - val_accuracy: 0.0000e+00\n",
      "Epoch 3/30\n",
      "5/5 [==============================] - 0s 6ms/step - loss: nan - accuracy: 0.0000e+00 - val_loss: nan - val_accuracy: 0.0000e+00\n",
      "Epoch 4/30\n",
      "5/5 [==============================] - 0s 6ms/step - loss: nan - accuracy: 0.0000e+00 - val_loss: nan - val_accuracy: 0.0000e+00\n",
      "Epoch 5/30\n",
      "5/5 [==============================] - 0s 6ms/step - loss: nan - accuracy: 0.0000e+00 - val_loss: nan - val_accuracy: 0.0000e+00\n",
      "Epoch 6/30\n",
      "5/5 [==============================] - 0s 6ms/step - loss: nan - accuracy: 0.0000e+00 - val_loss: nan - val_accuracy: 0.0000e+00\n",
      "Epoch 7/30\n",
      "5/5 [==============================] - 0s 6ms/step - loss: nan - accuracy: 0.0000e+00 - val_loss: nan - val_accuracy: 0.0000e+00\n",
      "Epoch 8/30\n",
      "5/5 [==============================] - 0s 6ms/step - loss: nan - accuracy: 0.0000e+00 - val_loss: nan - val_accuracy: 0.0000e+00\n",
      "Epoch 9/30\n",
      "5/5 [==============================] - 0s 7ms/step - loss: nan - accuracy: 0.0000e+00 - val_loss: nan - val_accuracy: 0.0000e+00\n",
      "Epoch 10/30\n",
      "5/5 [==============================] - 0s 6ms/step - loss: nan - accuracy: 0.0000e+00 - val_loss: nan - val_accuracy: 0.0000e+00\n",
      "Epoch 11/30\n",
      "5/5 [==============================] - 0s 6ms/step - loss: nan - accuracy: 0.0000e+00 - val_loss: nan - val_accuracy: 0.0000e+00\n",
      "Epoch 12/30\n",
      "5/5 [==============================] - 0s 7ms/step - loss: nan - accuracy: 0.0000e+00 - val_loss: nan - val_accuracy: 0.0000e+00\n",
      "Epoch 13/30\n",
      "5/5 [==============================] - 0s 6ms/step - loss: nan - accuracy: 0.0000e+00 - val_loss: nan - val_accuracy: 0.0000e+00\n",
      "Epoch 14/30\n",
      "5/5 [==============================] - 0s 6ms/step - loss: nan - accuracy: 0.0000e+00 - val_loss: nan - val_accuracy: 0.0000e+00\n",
      "Epoch 15/30\n",
      "5/5 [==============================] - 0s 6ms/step - loss: nan - accuracy: 0.0000e+00 - val_loss: nan - val_accuracy: 0.0000e+00\n",
      "Epoch 16/30\n",
      "5/5 [==============================] - 0s 6ms/step - loss: nan - accuracy: 0.0000e+00 - val_loss: nan - val_accuracy: 0.0000e+00\n",
      "Epoch 17/30\n",
      "5/5 [==============================] - 0s 7ms/step - loss: nan - accuracy: 0.0000e+00 - val_loss: nan - val_accuracy: 0.0000e+00\n",
      "Epoch 18/30\n",
      "5/5 [==============================] - 0s 7ms/step - loss: nan - accuracy: 0.0000e+00 - val_loss: nan - val_accuracy: 0.0000e+00\n",
      "Epoch 19/30\n",
      "5/5 [==============================] - 0s 7ms/step - loss: nan - accuracy: 0.0000e+00 - val_loss: nan - val_accuracy: 0.0000e+00\n",
      "Epoch 20/30\n",
      "5/5 [==============================] - 0s 6ms/step - loss: nan - accuracy: 0.0000e+00 - val_loss: nan - val_accuracy: 0.0000e+00\n",
      "Epoch 21/30\n",
      "5/5 [==============================] - 0s 7ms/step - loss: nan - accuracy: 0.0000e+00 - val_loss: nan - val_accuracy: 0.0000e+00\n",
      "Epoch 22/30\n",
      "5/5 [==============================] - 0s 7ms/step - loss: nan - accuracy: 0.0000e+00 - val_loss: nan - val_accuracy: 0.0000e+00\n",
      "Epoch 23/30\n",
      "5/5 [==============================] - 0s 7ms/step - loss: nan - accuracy: 0.0000e+00 - val_loss: nan - val_accuracy: 0.0000e+00\n",
      "Epoch 24/30\n",
      "5/5 [==============================] - 0s 6ms/step - loss: nan - accuracy: 0.0000e+00 - val_loss: nan - val_accuracy: 0.0000e+00\n",
      "Epoch 25/30\n",
      "5/5 [==============================] - 0s 6ms/step - loss: nan - accuracy: 0.0000e+00 - val_loss: nan - val_accuracy: 0.0000e+00\n",
      "Epoch 26/30\n",
      "5/5 [==============================] - 0s 6ms/step - loss: nan - accuracy: 0.0000e+00 - val_loss: nan - val_accuracy: 0.0000e+00\n",
      "Epoch 27/30\n",
      "5/5 [==============================] - 0s 6ms/step - loss: nan - accuracy: 0.0000e+00 - val_loss: nan - val_accuracy: 0.0000e+00\n",
      "Epoch 28/30\n",
      "5/5 [==============================] - 0s 6ms/step - loss: nan - accuracy: 0.0000e+00 - val_loss: nan - val_accuracy: 0.0000e+00\n",
      "Epoch 29/30\n",
      "5/5 [==============================] - 0s 6ms/step - loss: nan - accuracy: 0.0000e+00 - val_loss: nan - val_accuracy: 0.0000e+00\n",
      "Epoch 30/30\n",
      "5/5 [==============================] - 0s 6ms/step - loss: nan - accuracy: 0.0000e+00 - val_loss: nan - val_accuracy: 0.0000e+00\n"
     ]
    }
   ],
   "source": [
    "history = model.fit(X, y, epochs=30, validation_split=0.1)"
   ]
  },
  {
   "cell_type": "code",
   "execution_count": null,
   "metadata": {},
   "outputs": [],
   "source": []
  },
  {
   "cell_type": "code",
   "execution_count": null,
   "metadata": {},
   "outputs": [],
   "source": []
  }
 ],
 "metadata": {
  "kernelspec": {
   "display_name": "Python 3",
   "language": "python",
   "name": "python3"
  },
  "language_info": {
   "codemirror_mode": {
    "name": "ipython",
    "version": 3
   },
   "file_extension": ".py",
   "mimetype": "text/x-python",
   "name": "python",
   "nbconvert_exporter": "python",
   "pygments_lexer": "ipython3",
   "version": "3.11.1"
  }
 },
 "nbformat": 4,
 "nbformat_minor": 2
}
